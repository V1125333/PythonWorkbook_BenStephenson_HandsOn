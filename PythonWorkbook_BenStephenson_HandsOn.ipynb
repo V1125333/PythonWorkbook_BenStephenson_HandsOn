{
  "nbformat": 4,
  "nbformat_minor": 0,
  "metadata": {
    "colab": {
      "provenance": [],
      "authorship_tag": "ABX9TyNhlF8SegsSbuPbG+1ooMTx",
      "include_colab_link": true
    },
    "kernelspec": {
      "name": "python3",
      "display_name": "Python 3"
    },
    "language_info": {
      "name": "python"
    }
  },
  "cells": [
    {
      "cell_type": "markdown",
      "metadata": {
        "id": "view-in-github",
        "colab_type": "text"
      },
      "source": [
        "<a href=\"https://colab.research.google.com/github/V1125333/PythonWorkbook_BenStephenson_HandsOn/blob/main/PythonWorkbook_BenStephenson_HandsOn.ipynb\" target=\"_parent\"><img src=\"https://colab.research.google.com/assets/colab-badge.svg\" alt=\"Open In Colab\"/></a>"
      ]
    },
    {
      "cell_type": "code",
      "execution_count": 2,
      "metadata": {
        "id": "x7BqzOY6G5Wj",
        "colab": {
          "base_uri": "https://localhost:8080/"
        },
        "outputId": "68d21fb3-034d-4571-a1c3-52ac7a891fe4"
      },
      "outputs": [
        {
          "output_type": "stream",
          "name": "stdout",
          "text": [
            "Hello\n"
          ]
        }
      ],
      "source": [
        "# #Exercise 1: Mailing Address\n",
        "# Create a program that displays your name and complete mailing address formatted in\n",
        "# the manner that you would usually see it on the outside of an envelope. Your program\n",
        "# does not need to read any input from the user."
      ]
    },
    {
      "cell_type": "code",
      "source": [
        "name = \"Venu Madhav Pendurthi\"\n",
        "Address = \"55 Trumbull St\"\n",
        "Apt = \"Apt 000\"\n",
        "city = \"Hartford\"\n",
        "state = \"Connecticut\"\n",
        "zipcode = \"06103\"\n",
        "print(f\"{name},\")\n",
        "print(f\"{Address},\")\n",
        "print(f\"{Apt},\")\n",
        "print(f\"{city},\")\n",
        "print(f\"{state},\")\n",
        "print(f\"{zipcode}.\")"
      ],
      "metadata": {
        "colab": {
          "base_uri": "https://localhost:8080/"
        },
        "id": "JkeQ0sZ_IHps",
        "outputId": "b2a61c8a-3d8c-48c4-e0d8-e9662857d71a"
      },
      "execution_count": 8,
      "outputs": [
        {
          "output_type": "stream",
          "name": "stdout",
          "text": [
            "Venu Madhav Pendurthi,\n",
            "55 Trumbull St,\n",
            "Apt 000,\n",
            "Hartford,\n",
            "Connecticut,\n",
            "06103.\n"
          ]
        }
      ]
    }
  ]
}